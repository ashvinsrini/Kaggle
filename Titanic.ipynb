{
 "cells": [
  {
   "cell_type": "code",
   "execution_count": 2,
   "metadata": {
    "collapsed": false,
    "deletable": true,
    "editable": true
   },
   "outputs": [],
   "source": [
    "import numpy as np \n",
    "import pandas as pd\n",
    "from IPython.display import display \n",
    "import matplotlib.pyplot as plt\n",
    "%matplotlib inline\n",
    "data=pd.read_csv('train.csv')    "
   ]
  },
  {
   "cell_type": "code",
   "execution_count": 3,
   "metadata": {
    "collapsed": false,
    "deletable": true,
    "editable": true
   },
   "outputs": [
    {
     "data": {
      "text/html": [
       "<div>\n",
       "<style>\n",
       "    .dataframe thead tr:only-child th {\n",
       "        text-align: right;\n",
       "    }\n",
       "\n",
       "    .dataframe thead th {\n",
       "        text-align: left;\n",
       "    }\n",
       "\n",
       "    .dataframe tbody tr th {\n",
       "        vertical-align: top;\n",
       "    }\n",
       "</style>\n",
       "<table border=\"1\" class=\"dataframe\">\n",
       "  <thead>\n",
       "    <tr style=\"text-align: right;\">\n",
       "      <th></th>\n",
       "      <th>PassengerId</th>\n",
       "      <th>Survived</th>\n",
       "      <th>Pclass</th>\n",
       "      <th>Name</th>\n",
       "      <th>Sex</th>\n",
       "      <th>Age</th>\n",
       "      <th>SibSp</th>\n",
       "      <th>Parch</th>\n",
       "      <th>Ticket</th>\n",
       "      <th>Fare</th>\n",
       "      <th>Cabin</th>\n",
       "      <th>Embarked</th>\n",
       "    </tr>\n",
       "  </thead>\n",
       "  <tbody>\n",
       "    <tr>\n",
       "      <th>0</th>\n",
       "      <td>1</td>\n",
       "      <td>0</td>\n",
       "      <td>3</td>\n",
       "      <td>Braund, Mr. Owen Harris</td>\n",
       "      <td>male</td>\n",
       "      <td>22.0</td>\n",
       "      <td>1</td>\n",
       "      <td>0</td>\n",
       "      <td>A/5 21171</td>\n",
       "      <td>7.2500</td>\n",
       "      <td>NaN</td>\n",
       "      <td>S</td>\n",
       "    </tr>\n",
       "    <tr>\n",
       "      <th>1</th>\n",
       "      <td>2</td>\n",
       "      <td>1</td>\n",
       "      <td>1</td>\n",
       "      <td>Cumings, Mrs. John Bradley (Florence Briggs Th...</td>\n",
       "      <td>female</td>\n",
       "      <td>38.0</td>\n",
       "      <td>1</td>\n",
       "      <td>0</td>\n",
       "      <td>PC 17599</td>\n",
       "      <td>71.2833</td>\n",
       "      <td>C85</td>\n",
       "      <td>C</td>\n",
       "    </tr>\n",
       "    <tr>\n",
       "      <th>2</th>\n",
       "      <td>3</td>\n",
       "      <td>1</td>\n",
       "      <td>3</td>\n",
       "      <td>Heikkinen, Miss. Laina</td>\n",
       "      <td>female</td>\n",
       "      <td>26.0</td>\n",
       "      <td>0</td>\n",
       "      <td>0</td>\n",
       "      <td>STON/O2. 3101282</td>\n",
       "      <td>7.9250</td>\n",
       "      <td>NaN</td>\n",
       "      <td>S</td>\n",
       "    </tr>\n",
       "    <tr>\n",
       "      <th>3</th>\n",
       "      <td>4</td>\n",
       "      <td>1</td>\n",
       "      <td>1</td>\n",
       "      <td>Futrelle, Mrs. Jacques Heath (Lily May Peel)</td>\n",
       "      <td>female</td>\n",
       "      <td>35.0</td>\n",
       "      <td>1</td>\n",
       "      <td>0</td>\n",
       "      <td>113803</td>\n",
       "      <td>53.1000</td>\n",
       "      <td>C123</td>\n",
       "      <td>S</td>\n",
       "    </tr>\n",
       "    <tr>\n",
       "      <th>4</th>\n",
       "      <td>5</td>\n",
       "      <td>0</td>\n",
       "      <td>3</td>\n",
       "      <td>Allen, Mr. William Henry</td>\n",
       "      <td>male</td>\n",
       "      <td>35.0</td>\n",
       "      <td>0</td>\n",
       "      <td>0</td>\n",
       "      <td>373450</td>\n",
       "      <td>8.0500</td>\n",
       "      <td>NaN</td>\n",
       "      <td>S</td>\n",
       "    </tr>\n",
       "  </tbody>\n",
       "</table>\n",
       "</div>"
      ],
      "text/plain": [
       "   PassengerId  Survived  Pclass  \\\n",
       "0            1         0       3   \n",
       "1            2         1       1   \n",
       "2            3         1       3   \n",
       "3            4         1       1   \n",
       "4            5         0       3   \n",
       "\n",
       "                                                Name     Sex   Age  SibSp  \\\n",
       "0                            Braund, Mr. Owen Harris    male  22.0      1   \n",
       "1  Cumings, Mrs. John Bradley (Florence Briggs Th...  female  38.0      1   \n",
       "2                             Heikkinen, Miss. Laina  female  26.0      0   \n",
       "3       Futrelle, Mrs. Jacques Heath (Lily May Peel)  female  35.0      1   \n",
       "4                           Allen, Mr. William Henry    male  35.0      0   \n",
       "\n",
       "   Parch            Ticket     Fare Cabin Embarked  \n",
       "0      0         A/5 21171   7.2500   NaN        S  \n",
       "1      0          PC 17599  71.2833   C85        C  \n",
       "2      0  STON/O2. 3101282   7.9250   NaN        S  \n",
       "3      0            113803  53.1000  C123        S  \n",
       "4      0            373450   8.0500   NaN        S  "
      ]
     },
     "metadata": {},
     "output_type": "display_data"
    }
   ],
   "source": [
    "display(data.head())"
   ]
  },
  {
   "cell_type": "code",
   "execution_count": 4,
   "metadata": {
    "collapsed": false,
    "deletable": true,
    "editable": true
   },
   "outputs": [],
   "source": [
    "                                    ##### DATA PREPROCESSING #####\n",
    "# Check if columns have NA entries #####\n",
    "count=dict() # Keys are feature names, and items are missing entries counts.\n",
    "def missing_entries(data):\n",
    "    for ii in data.columns:\n",
    "     count[ii]=np.sum(data[ii].isnull())\n",
    "     miss_entr=np.sum(data[ii].isnull())\n",
    "     print('The feature {} has {} missing entries.'.format(ii,miss_entr))\n",
    "    return count\n"
   ]
  },
  {
   "cell_type": "code",
   "execution_count": 5,
   "metadata": {
    "collapsed": false,
    "deletable": true,
    "editable": true
   },
   "outputs": [
    {
     "name": "stdout",
     "output_type": "stream",
     "text": [
      "The feature PassengerId has 0 missing entries.\n",
      "The feature Survived has 0 missing entries.\n",
      "The feature Pclass has 0 missing entries.\n",
      "The feature Name has 0 missing entries.\n",
      "The feature Sex has 0 missing entries.\n",
      "The feature Age has 177 missing entries.\n",
      "The feature SibSp has 0 missing entries.\n",
      "The feature Parch has 0 missing entries.\n",
      "The feature Ticket has 0 missing entries.\n",
      "The feature Fare has 0 missing entries.\n",
      "The feature Cabin has 687 missing entries.\n",
      "The feature Embarked has 2 missing entries.\n"
     ]
    }
   ],
   "source": [
    "count=missing_entries(data)\n",
    "    "
   ]
  },
  {
   "cell_type": "code",
   "execution_count": 6,
   "metadata": {
    "collapsed": false,
    "deletable": true,
    "editable": true
   },
   "outputs": [],
   "source": [
    "######## Extracting designation of each passenger #####\n",
    "def extract_desig(input_data):\n",
    "    import re\n",
    "    designation=list()\n",
    "    for ii in (input_data['Name']):\n",
    "        t=re.findall(r\",(.*)\\.\",ii)[0]\n",
    "        designation.append(t)\n",
    "    \n",
    "    designation=pd.DataFrame(designation,columns=['Designation'])  \n",
    "    df1=input_data.copy()\n",
    "    df1=df1.drop(['Name','Ticket','Cabin','PassengerId'],axis=1)\n",
    "    df1=pd.concat([df1,designation],axis=1)\n",
    "    df1.head()\n",
    "    return df1"
   ]
  },
  {
   "cell_type": "code",
   "execution_count": 7,
   "metadata": {
    "collapsed": false,
    "deletable": true,
    "editable": true
   },
   "outputs": [],
   "source": [
    "############# Replacing missing Ages with it's corrosponding designation's mean\n",
    "def Age_meanimpute(df2):\n",
    "    \n",
    "    Age_ind=df2['Age'].isnull()\n",
    "    df=df2.copy()\n",
    "    temp=pd.DataFrame(df2.groupby(['Designation'])['Age'].mean())\n",
    "    df=df[Age_ind]\n",
    "    for ii in df.index.tolist(): \n",
    "        for jj in temp.index.tolist(): \n",
    "            if df.loc[ii,'Designation']==jj: \n",
    "                df.loc[ii,'Age']=temp.loc[jj,'Age']\n",
    "    df2[Age_ind]=df\n",
    "    return(df2)    "
   ]
  },
  {
   "cell_type": "code",
   "execution_count": 8,
   "metadata": {
    "collapsed": false,
    "deletable": true,
    "editable": true
   },
   "outputs": [],
   "source": [
    "###### Replacing the 2 Embarked NAN positions with most frequently embarked port S\n",
    "def Embark_impute(df3):\n",
    "    df3['Embarked'].describe()\n",
    "    Emb_ind=df3['Embarked'].isnull()\n",
    "    df3.loc[Emb_ind,'Embarked']='S'\n",
    "    return df3"
   ]
  },
  {
   "cell_type": "code",
   "execution_count": null,
   "metadata": {
    "collapsed": true,
    "deletable": true,
    "editable": true
   },
   "outputs": [],
   "source": []
  },
  {
   "cell_type": "code",
   "execution_count": 9,
   "metadata": {
    "collapsed": false,
    "deletable": true,
    "editable": true
   },
   "outputs": [],
   "source": [
    "########### Designation into 5 different buckets #########\n",
    "'''\n",
    "There are a total of 19 designations, we divide them into 5 buckets based on the age range \n",
    "plot 'plt.hist(data_cpy.groupby(['Designation'])['Age'].mean(),bins=5)'\n",
    "\n",
    "'''\n",
    "def desig_bin_divide(df4):\n",
    "\n",
    "\n",
    "    def desig_bucket(df2,input_arr): \n",
    "        desig_ind=df['Designation'].isin(input_arr)\n",
    "        df2.loc[desig_ind,'Designation']=input_arr[0]\n",
    "        #print(input_arr[0])\n",
    "        return df2\n",
    "    df=df4.copy()\n",
    "\n",
    "    arr=dict()\n",
    "    arr={0:[' Master'],\n",
    "         1:[' Ms',' Mr',' Mme',' Mlle',' Miss'],\n",
    "         2:[' Don',' Dr',' Jonkheer',' Rev',' the Countess',' Mrs'],\n",
    "         3:[' Lady',' Major',' Mrs. Martin (Elizabeth L',' Sir'],\n",
    "         4:[' Col',' Capt']\n",
    "         }\n",
    "    for ii in arr.keys():\n",
    "        df4=desig_bucket(df4,arr[ii])\n",
    "    df4['Designation'].unique() \n",
    "    return df4"
   ]
  },
  {
   "cell_type": "code",
   "execution_count": 10,
   "metadata": {
    "collapsed": false,
    "deletable": true,
    "editable": true
   },
   "outputs": [],
   "source": [
    "data_cpy=extract_desig(data)\n",
    "Age_groupedby_desig=pd.DataFrame(data_cpy.groupby(['Designation'])['Age'].mean())\n",
    "data_cpy=Age_meanimpute(data_cpy)\n",
    "data_cpy=Embark_impute(data_cpy)\n",
    "data_cpy=desig_bin_divide(data_cpy)"
   ]
  },
  {
   "cell_type": "code",
   "execution_count": 11,
   "metadata": {
    "collapsed": false,
    "deletable": true,
    "editable": true
   },
   "outputs": [
    {
     "data": {
      "image/png": "[encoded data removed]",
      "text/plain": [
       "<matplotlib.figure.Figure at 0x11bd280b8>"
      ]
     },
     "metadata": {},
     "output_type": "display_data"
    }
   ],
   "source": [
    "'''\n",
    "We are converting designation feature with 18 entries to a categorical variable of 5 entries based on the age feature. \n",
    "A dependency can be assumed between Designation and Age features. \n",
    "Designation buckets w.r.t Age are given in desig_bin_divide function.\n",
    "'''\n",
    "plt.hist(Age_groupedby_desig['Age'],bins=5)\n",
    "plt.xlabel('Mean Age')\n",
    "plt.title('Mean Age grouped by designation')\n",
    "plt.ylabel('Frequency')\n",
    "plt.show()"
   ]
  },
  {
   "cell_type": "code",
   "execution_count": 12,
   "metadata": {
    "collapsed": false,
    "deletable": true,
    "editable": true
   },
   "outputs": [],
   "source": [
    "#### Function for splitting data, log transforming skewed features, normalizing features with extreme values\n",
    "def split_data(df1,output_var,frac,norm_feat,log_feat):\n",
    "    target=df1[output_var]\n",
    "    df1=df1.drop(output_var,axis=1)\n",
    "    from sklearn.model_selection import train_test_split\n",
    "    X_train, X_test, y_train, y_test=train_test_split(df1,target,test_size=frac,random_state=0)\n",
    "    from sklearn.preprocessing import MinMaxScaler \n",
    "    scaler=MinMaxScaler()\n",
    "    ##### Log transform of train and test data. Apply log transform to skewed data\n",
    "    df1[log_feat]=df1[log_feat].apply(lambda x:np.log(x + 1))\n",
    "    X_train[log_feat]=X_train[log_feat].apply(lambda x:np.log(x + 1)) \n",
    "    X_test[log_feat]=X_test[log_feat].apply(lambda x:np.log(x + 1))\n",
    "    ##### Normalization of train and test data\n",
    "    df1[norm_feat]=scaler.fit_transform(df1[norm_feat])\n",
    "    X_train[norm_feat]=scaler.fit_transform(X_train[norm_feat])\n",
    "    X_test[norm_feat]=scaler.fit_transform(X_test[norm_feat])\n",
    "\n",
    "    return df1,X_train,X_test,y_train,y_test\n",
    "    "
   ]
  },
  {
   "cell_type": "code",
   "execution_count": 13,
   "metadata": {
    "collapsed": false,
    "deletable": true,
    "editable": true
   },
   "outputs": [
    {
     "data": {
      "image/png": "[encoded data removed]",
      "text/plain": [
       "<matplotlib.figure.Figure at 0x11f386a20>"
      ]
     },
     "metadata": {},
     "output_type": "display_data"
    },
    {
     "data": {
      "image/png": "[encoded data removed]",
      "text/plain": [
       "<matplotlib.figure.Figure at 0x11bf19908>"
      ]
     },
     "metadata": {},
     "output_type": "display_data"
    }
   ],
   "source": [
    "'''\n",
    "Some continous features could have skewed values, i.e., some of their entries could be completely in the extremes\n",
    "'''\n",
    "plt.figure(1)\n",
    "plt.subplot(211)\n",
    "plt.hist(data_cpy['Fare'])\n",
    "plt.xlabel('Fare')\n",
    "plt.ylabel('Frequency')\n",
    "plt.title('Initial Distribution')\n",
    "plt.figure(2)\n",
    "plt.subplot(212)\n",
    "plt.hist(data_cpy['Age'])\n",
    "plt.xlabel('Age')\n",
    "plt.ylabel('Frequency')\n",
    "plt.title('Initial Distribution')\n",
    "plt.show()"
   ]
  },
  {
   "cell_type": "code",
   "execution_count": 14,
   "metadata": {
    "collapsed": false,
    "deletable": true,
    "editable": true
   },
   "outputs": [],
   "source": [
    "pd.options.mode.chained_assignment = None   #### Command for removing any warning for chaining operations\n",
    "data_cpy=pd.get_dummies(data_cpy)\n",
    "data_cpy.head()\n",
    "feature_tobe_normalized=['Fare','Age']\n",
    "feature_tobe_log=['Fare']\n",
    "final_data_cpy,features_train,features_test,out_train,out_test=split_data(data_cpy,'Survived',0.2,\n",
    "                                                feature_tobe_normalized,feature_tobe_log)"
   ]
  },
  {
   "cell_type": "code",
   "execution_count": 15,
   "metadata": {
    "collapsed": false,
    "deletable": true,
    "editable": true
   },
   "outputs": [
    {
     "data": {
      "image/png": "[encoded data removed]",
      "text/plain": [
       "<matplotlib.figure.Figure at 0x12151ea20>"
      ]
     },
     "metadata": {},
     "output_type": "display_data"
    },
    {
     "data": {
      "image/png": "[encoded data removed]",
      "text/plain": [
       "<matplotlib.figure.Figure at 0x1215e4e80>"
      ]
     },
     "metadata": {},
     "output_type": "display_data"
    }
   ],
   "source": [
    "'''\n",
    "Log, norm transformations of Fare feature and norm transformation of Age feature\n",
    "\n",
    "'''\n",
    "plt.figure(1)\n",
    "plt.subplot(211)\n",
    "plt.hist(final_data_cpy['Fare'])\n",
    "plt.xlabel('Fare')\n",
    "plt.ylabel('Frequency')\n",
    "plt.title('Final Distribution of Fare')\n",
    "plt.figure(2)\n",
    "plt.subplot(212)\n",
    "plt.hist(final_data_cpy['Age'])\n",
    "plt.xlabel('Age')\n",
    "plt.ylabel('Frequency')\n",
    "plt.title('Final Distribution of Age')\n",
    "plt.show()"
   ]
  },
  {
   "cell_type": "code",
   "execution_count": 16,
   "metadata": {
    "collapsed": false,
    "deletable": true,
    "editable": true
   },
   "outputs": [
    {
     "name": "stdout",
     "output_type": "stream",
     "text": [
      "Naive predictor accuracy is 38.34% and f_beta score is 0.44.\n"
     ]
    }
   ],
   "source": [
    "'''\n",
    "To get an understanding of any classifier, it is good to calculate the naive predictor performance, \n",
    "where in predicted values for a person is always 1, i.e., no training is present!\n",
    "'''\n",
    "naive_pred=np.ones(len(out_train))\n",
    "from sklearn.metrics import accuracy_score, fbeta_score,make_scorer\n",
    "print('Naive predictor accuracy is {:.2f}% and f_beta score is {:.2f}.'\n",
    "                                                                .format(accuracy_score(out_train,naive_pred)*100,\n",
    "                                                                fbeta_score(out_train,naive_pred,beta=0.5)))\n",
    "    \n",
    "\n"
   ]
  },
  {
   "cell_type": "code",
   "execution_count": 17,
   "metadata": {
    "collapsed": false,
    "deletable": true,
    "editable": true
   },
   "outputs": [
    {
     "name": "stdout",
     "output_type": "stream",
     "text": [
      "For classifier:LogisticRegression, CV_accuracy:0.834361852, f_beta:0.80\n",
      "For classifier:RandomForestClassifier, CV_accuracy:0.800627142, f_beta:0.75\n",
      "For classifier:SVC, CV_accuracy:0.831574639, f_beta:0.79\n",
      "For classifier:AdaBoostClassifier, CV_accuracy:0.810506694, f_beta:0.76\n"
     ]
    }
   ],
   "source": [
    "from sklearn import linear_model\n",
    "from sklearn.ensemble import RandomForestClassifier\n",
    "from sklearn.svm import SVC\n",
    "from sklearn.ensemble import AdaBoostClassifier\n",
    "from sklearn.model_selection import cross_validate\n",
    "\n",
    "clf_A=linear_model.LogisticRegression(random_state=0)\n",
    "clf_B=RandomForestClassifier(random_state=0)\n",
    "clf_C=SVC(random_state=0)\n",
    "clf_D = AdaBoostClassifier(random_state=0)\n",
    "\n",
    "for clf in [clf_A,clf_B,clf_C,clf_D]:\n",
    "    clf_name = clf.__class__.__name__\n",
    "    acc_scorer=make_scorer(accuracy_score)\n",
    "    acc_scores = cross_validate(clf, features_train, out_train, scoring=acc_scorer,\n",
    "                        cv=5, return_train_score=True)\n",
    "    f_scorer=make_scorer(fbeta_score,beta=0.5)\n",
    "    fbeta_scores = cross_validate(clf, features_train, out_train, scoring=f_scorer,\n",
    "                        cv=5, return_train_score=True)\n",
    "    print('For classifier:{}, CV_accuracy:{:.9f}, f_beta:{:.2f}'.format(clf_name,\n",
    "                                                                np.mean(acc_scores['test_score']),\n",
    "                                                                np.mean(fbeta_scores['test_score'])\n",
    "                                                                ))\n"
   ]
  },
  {
   "cell_type": "code",
   "execution_count": 18,
   "metadata": {
    "collapsed": false,
    "deletable": true,
    "editable": true
   },
   "outputs": [
    {
     "name": "stderr",
     "output_type": "stream",
     "text": [
      "/Users/ashvinsrinivasan/Library/Enthought/Canopy/edm/envs/User/lib/python3.5/site-packages/sklearn/cross_validation.py:41: DeprecationWarning: This module was deprecated in version 0.18 in favor of the model_selection module into which all the refactored classes and functions are moved. Also note that the interface of the new CV iterators are different from that of this module. This module will be removed in 0.20.\n",
      "  \"This module will be removed in 0.20.\", DeprecationWarning)\n",
      "/Users/ashvinsrinivasan/Library/Enthought/Canopy/edm/envs/User/lib/python3.5/site-packages/sklearn/grid_search.py:42: DeprecationWarning: This module was deprecated in version 0.18 in favor of the model_selection module into which all the refactored classes and functions are moved. This module will be removed in 0.20.\n",
      "  DeprecationWarning)\n"
     ]
    },
    {
     "name": "stdout",
     "output_type": "stream",
     "text": [
      "accuracy score for unoptimized model:0.82681564\n",
      "accuracy score for optimized model:0.82681564\n"
     ]
    }
   ],
   "source": [
    "######### Using SVC  as the final optimizer #########\n",
    "def train_pred(input_features,output_features):\n",
    "    from sklearn import grid_search \n",
    "    from sklearn.metrics import accuracy_score\n",
    "    from sklearn.svm import SVC\n",
    "    clf=SVC(random_state=6)\n",
    "    parameters={'kernel':['linear','rbf'],\n",
    "                'C':[1e-2, 1, 1e2],\n",
    "                'gamma':[1e-1, 1, 1e1]\n",
    "               }\n",
    "    scorer=make_scorer(accuracy_score)\n",
    "    grid_obj=grid_search.GridSearchCV(estimator=clf,param_grid=parameters,scoring=scorer)\n",
    "    \n",
    "    grid_fit=grid_obj.fit(input_features,output_features)\n",
    "    best_clf = grid_fit.best_estimator_\n",
    "    \n",
    "    return clf,best_clf\n",
    "\n",
    "    ##### Comparing unoptimized model to optimzied model \n",
    "clf_train,best_clf_train=train_pred(features_train,out_train)\n",
    "unoptimized_pred=clf_train.fit(features_train,out_train).predict(features_test)\n",
    "optimized_pred=best_clf_train.predict(features_test)\n",
    "\n",
    "print('accuracy score for unoptimized model:{:.8f}'.format(accuracy_score(out_test,\n",
    "                                                                          unoptimized_pred)))\n",
    "print('accuracy score for optimized model:{:.8f}'.format(accuracy_score(out_test,\n",
    "                                                                        optimized_pred)))\n",
    "    "
   ]
  },
  {
   "cell_type": "code",
   "execution_count": 19,
   "metadata": {
    "collapsed": false,
    "deletable": true,
    "editable": true
   },
   "outputs": [],
   "source": [
    "########### Importing actual test data #########\n",
    "test_data=pd.read_csv('test.csv') \n",
    "test_data.head()\n",
    "passenger_id=test_data['PassengerId']"
   ]
  },
  {
   "cell_type": "code",
   "execution_count": 20,
   "metadata": {
    "collapsed": false,
    "deletable": true,
    "editable": true
   },
   "outputs": [],
   "source": [
    "test_df=extract_desig(test_data)\n",
    "test_df=Age_meanimpute(test_df)\n",
    "test_df=Embark_impute(test_df)\n",
    "test_df=desig_bin_divide(test_df)\n",
    "'''\n",
    "two observations in the test test have NAN's imputed manually\n",
    "'''\n",
    "test_df.loc[test_df['Fare'].isnull(),'Fare']=np.min(test_df['Fare'])\n",
    "test_df.loc[test_df['Age'].isnull(),'Age']=28.0\n",
    "from sklearn.preprocessing import MinMaxScaler \n",
    "scaler=MinMaxScaler()\n",
    "norm_feats=['Fare','Age']\n",
    "log_feats=['Fare']\n",
    "##### Log transform of train and test data\n",
    "test_df[log_feats]=test_df[log_feats].apply(lambda x:np.log(x + 1)) # Apply log transform to skewed data, show it is skewed\n",
    "##### Normalization of train and test data\n",
    "test_df[norm_feats]=scaler.fit_transform(test_df[norm_feats])\n",
    "\n",
    "test_df=pd.get_dummies(test_df) \n",
    "#### Training over the entire data set\n",
    "final_feat_train=final_data_cpy\n",
    "final_out_train=data_cpy['Survived']"
   ]
  },
  {
   "cell_type": "code",
   "execution_count": 21,
   "metadata": {
    "collapsed": false,
    "deletable": true,
    "editable": true
   },
   "outputs": [],
   "source": [
    "test_pred=best_clf_train.fit(final_feat_train,final_out_train).predict(test_df)"
   ]
  },
  {
   "cell_type": "code",
   "execution_count": 22,
   "metadata": {
    "collapsed": false,
    "deletable": true,
    "editable": true
   },
   "outputs": [
    {
     "data": {
      "text/plain": [
       "SVC(C=1, cache_size=200, class_weight=None, coef0=0.0,\n",
       "  decision_function_shape='ovr', degree=3, gamma=0.1, kernel='rbf',\n",
       "  max_iter=-1, probability=False, random_state=6, shrinking=True,\n",
       "  tol=0.001, verbose=False)"
      ]
     },
     "execution_count": 22,
     "metadata": {},
     "output_type": "execute_result"
    }
   ],
   "source": [
    "best_clf_train"
   ]
  },
  {
   "cell_type": "code",
   "execution_count": 23,
   "metadata": {
    "collapsed": false,
    "deletable": true,
    "editable": true
   },
   "outputs": [],
   "source": [
    "final_df=pd.DataFrame(pd.concat([passenger_id,pd.Series(test_pred)],axis=1))\n",
    "final_df.to_csv('final_submission.csv', sep=',', encoding='utf-8')"
   ]
  },
  {
   "cell_type": "code",
   "execution_count": 24,
   "metadata": {
    "collapsed": false,
    "deletable": true,
    "editable": true
   },
   "outputs": [
    {
     "data": {
      "text/plain": [
       "'\\nThe final survival rate accuracy on the unseen test data from Kaggle is 79.425% using the above feature transformations,\\nmodel selection and model optimization using hyper parameters.\\n'"
      ]
     },
     "execution_count": 24,
     "metadata": {},
     "output_type": "execute_result"
    }
   ],
   "source": [
    "'''\n",
    "The final survival rate accuracy on the unseen test data from Kaggle is 79.425% using the above feature transformations,\n",
    "model selection and model optimization using hyper parameters.\n",
    "'''"
   ]
  },
  {
   "cell_type": "code",
   "execution_count": null,
   "metadata": {
    "collapsed": true,
    "deletable": true,
    "editable": true
   },
   "outputs": [],
   "source": []
  }
 ],
 "metadata": {
  "kernelspec": {
   "display_name": "Python 3",
   "language": "python",
   "name": "python3"
  },
  "language_info": {
   "codemirror_mode": {
    "name": "ipython",
    "version": 3
   },
   "file_extension": ".py",
   "mimetype": "text/x-python",
   "name": "python",
   "nbconvert_exporter": "python",
   "pygments_lexer": "ipython3",
   "version": "3.5.2"
  }
 },
 "nbformat": 4,
 "nbformat_minor": 2
}
